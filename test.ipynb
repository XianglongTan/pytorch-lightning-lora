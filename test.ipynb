{
 "cells": [
  {
   "cell_type": "code",
   "execution_count": 2,
   "metadata": {},
   "outputs": [],
   "source": [
    "import pandas as pd\n",
    "from sklearn.model_selection import StratifiedKFold\n",
    "train_df = pd.read_csv('../data/0524/train_set.csv', nrows=None)\n",
    "skf = StratifiedKFold(n_splits=2)\n",
    "\n",
    "for train_idx, eval_idx in skf.split(train_df, train_df['page']):\n",
    "    train_x, eval_x = train_df.iloc[train_idx], train_df.iloc[eval_idx]\n",
    "    break"
   ]
  },
  {
   "cell_type": "code",
   "execution_count": 5,
   "metadata": {},
   "outputs": [
    {
     "data": {
      "text/plain": [
       "qq音乐             240\n",
       "上交所              240\n",
       "顺丰快递查收寄标准        240\n",
       "猫眼电影             240\n",
       "火车票12306         240\n",
       "巨潮资讯             240\n",
       "安居客              240\n",
       "学信网              240\n",
       "国家统计局            240\n",
       "国家企业信用信息公示系统     240\n",
       "卫健委信用信息网_护       240\n",
       "卫健委信用信息网_医       240\n",
       "企查查企业查询          240\n",
       "交通安全综合服务管理平台     240\n",
       "中国银行保险监督管理委员会    240\n",
       "中国证券投资基金业协会      240\n",
       "中国裁判文书网          240\n",
       "中国法律服务网          240\n",
       "中国人民银行           240\n",
       "顺丰快递查运费时效        240\n",
       "Name: page, dtype: int64"
      ]
     },
     "execution_count": 5,
     "metadata": {},
     "output_type": "execute_result"
    }
   ],
   "source": [
    "eval_x['page'].value_counts()"
   ]
  }
 ],
 "metadata": {
  "kernelspec": {
   "display_name": "base",
   "language": "python",
   "name": "python3"
  },
  "language_info": {
   "codemirror_mode": {
    "name": "ipython",
    "version": 3
   },
   "file_extension": ".py",
   "mimetype": "text/x-python",
   "name": "python",
   "nbconvert_exporter": "python",
   "pygments_lexer": "ipython3",
   "version": "3.8.10"
  },
  "orig_nbformat": 4
 },
 "nbformat": 4,
 "nbformat_minor": 2
}
